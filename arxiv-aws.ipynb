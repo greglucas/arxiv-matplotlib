{
 "cells": [
  {
   "cell_type": "markdown",
   "id": "ae977bc3-d3cf-4492-a359-a95f8156fb52",
   "metadata": {},
   "source": [
    "# arXiv Matplotlib Query\n",
    "\n",
    "Anecdotally the Matplotlib maintainers were told \n",
    "\n",
    "*\"About 15% of arXiv papers use Matplotlib\"*\n",
    "\n",
    "Unfortunately the original analysis of this data was lost.  We reproduce it here.\n",
    "\n",
    "## Watermark\n",
    "\n",
    "Starting in the early 2010s, Matplotlib started including the bytes `b\"Matplotlib\"` in every PNG and PDF that they produce.  These bytes persist in the output PDFs stored on arXiv.  As a result, it's pretty simple to check if a PDF contains a Matplotlib image.  All we have to do is scan through every PDF and look for these bytes; no parsing required.\n",
    "\n",
    "## Data\n",
    "\n",
    "The data is stored in a requester pays bucket at s3://arxiv (more information at https://arxiv.org/help/bulk_data_s3 ) and also on GCS hosted by Kaggle (more information at https://www.kaggle.com/datasets/Cornell-University/arxiv).  \n",
    "\n",
    "The data is about 1TB in size.  We're going to use Dask for this."
   ]
  },
  {
   "cell_type": "markdown",
   "id": "34748fc3-7f2f-442e-9829-626d88878234",
   "metadata": {},
   "source": [
    "## Create Dask Cluster\n",
    "\n",
    "We start with a small Dask cluster on AWS in the same region where the data is stored.  We also mimic the local software environment on the cluster with `package_sync=True`."
   ]
  },
  {
   "cell_type": "code",
   "execution_count": 42,
   "id": "245c269a-c432-4352-aa01-0d9110b63304",
   "metadata": {},
   "outputs": [
    {
     "data": {
      "text/html": [
       "<pre style=\"white-space:pre;overflow-x:auto;line-height:normal;font-family:Menlo,'DejaVu Sans Mono',consolas,'Courier New',monospace\">╭───────────────────────────────────────── <span style=\"color: #008000; text-decoration-color: #008000; font-weight: bold\">Package Issues</span> ─────────────────────────────────────────╮\n",
       "│                    ╷                                                           ╷                 │\n",
       "│  <span style=\"font-weight: bold\"> Package          </span>│<span style=\"font-weight: bold\"> Issue                                                     </span>│<span style=\"font-weight: bold\"> Risk Level    </span>  │\n",
       "│ ╶──────────────────┼───────────────────────────────────────────────────────────┼───────────────╴ │\n",
       "│   libgfortran5     │ 11.3.0 has no install candidate for linux-64              │                 │\n",
       "│   libgfortran      │ 5.0.0 has no install candidate for linux-64               │                 │\n",
       "│   grpcio           │ 1.48.1 has no install candidate for linux-64              │                 │\n",
       "│   grpc-cpp         │ 1.48.1 has no install candidate for linux-64              │                 │\n",
       "│   openssl          │ Package ignored                                           │                 │\n",
       "│   libabseil        │ Package ignored                                           │                 │\n",
       "│                    ╵                                                           ╵                 │\n",
       "╰──────────────────────────────────────────────────────────────────────────────────────────────────╯\n",
       "</pre>\n"
      ],
      "text/plain": [
       "╭───────────────────────────────────────── \u001b[1;32mPackage Issues\u001b[0m ─────────────────────────────────────────╮\n",
       "│                    ╷                                                           ╷                 │\n",
       "│  \u001b[1m \u001b[0m\u001b[1mPackage         \u001b[0m\u001b[1m \u001b[0m│\u001b[1m \u001b[0m\u001b[1mIssue                                                    \u001b[0m\u001b[1m \u001b[0m│\u001b[1m \u001b[0m\u001b[1mRisk Level   \u001b[0m\u001b[1m \u001b[0m  │\n",
       "│ ╶──────────────────┼───────────────────────────────────────────────────────────┼───────────────╴ │\n",
       "│   libgfortran5     │ 11.3.0 has no install candidate for linux-64              │                 │\n",
       "│   libgfortran      │ 5.0.0 has no install candidate for linux-64               │                 │\n",
       "│   grpcio           │ 1.48.1 has no install candidate for linux-64              │                 │\n",
       "│   grpc-cpp         │ 1.48.1 has no install candidate for linux-64              │                 │\n",
       "│   openssl          │ Package ignored                                           │                 │\n",
       "│   libabseil        │ Package ignored                                           │                 │\n",
       "│                    ╵                                                           ╵                 │\n",
       "╰──────────────────────────────────────────────────────────────────────────────────────────────────╯\n"
      ]
     },
     "metadata": {},
     "output_type": "display_data"
    },
    {
     "data": {
      "application/vnd.jupyter.widget-view+json": {
       "model_id": "2a6d6f2fc3de4b4e969003db3a5974d0",
       "version_major": 2,
       "version_minor": 0
      },
      "text/plain": [
       "Output()"
      ]
     },
     "metadata": {},
     "output_type": "display_data"
    },
    {
     "data": {
      "text/html": [
       "<pre style=\"white-space:pre;overflow-x:auto;line-height:normal;font-family:Menlo,'DejaVu Sans Mono',consolas,'Courier New',monospace\"></pre>\n"
      ],
      "text/plain": []
     },
     "metadata": {},
     "output_type": "display_data"
    }
   ],
   "source": [
    "import coiled\n",
    "\n",
    "cluster = coiled.Cluster(\n",
    "    name=\"arxiv\",\n",
    "    shutdown_on_close=False,\n",
    "    package_sync=True, \n",
    "    backend_options={\"region\": \"us-east-1\"},\n",
    ")"
   ]
  },
  {
   "cell_type": "code",
   "execution_count": 43,
   "id": "f46591e5-664f-4bcc-98f3-c89bbb826331",
   "metadata": {},
   "outputs": [],
   "source": [
    "from dask.distributed import Client, wait\n",
    "client = Client(cluster)"
   ]
  },
  {
   "cell_type": "markdown",
   "id": "6f0965a0-fa87-470b-bd3d-0b5b7ecaca99",
   "metadata": {},
   "source": [
    "### Get all filenames"
   ]
  },
  {
   "cell_type": "code",
   "execution_count": 44,
   "id": "e62539ef-5e91-43c5-afa8-0c3fa51b8f11",
   "metadata": {},
   "outputs": [
    {
     "data": {
      "text/plain": [
       "5288"
      ]
     },
     "execution_count": 44,
     "metadata": {},
     "output_type": "execute_result"
    }
   ],
   "source": [
    "import s3fs\n",
    "s3 = s3fs.S3FileSystem(requester_pays=True)\n",
    "\n",
    "directories = s3.ls(\"s3://arxiv/pdf\")\n",
    "len(directories)"
   ]
  },
  {
   "cell_type": "code",
   "execution_count": 6,
   "id": "4bc51124-c61e-4d7e-84ff-ffd551c7ca7f",
   "metadata": {},
   "outputs": [
    {
     "data": {
      "text/plain": [
       "'arxiv/pdf/arXiv_pdf_1407_009.tar'"
      ]
     },
     "execution_count": 6,
     "metadata": {},
     "output_type": "execute_result"
    }
   ],
   "source": [
    "directories[1000]"
   ]
  },
  {
   "cell_type": "markdown",
   "id": "a4d3219f-a6ce-487f-b5ae-522a7415c014",
   "metadata": {},
   "source": [
    "## Process one file\n",
    "\n",
    "Mostly we have to muck about with tar files.  This wasn't hard.  The `tarfile` library is in the stardard library.  It's not beautiful, but it's also not hard to use."
   ]
  },
  {
   "cell_type": "code",
   "execution_count": 89,
   "id": "85146f13-5e5a-40e3-8d56-a79064f35ce4",
   "metadata": {
    "tags": []
   },
   "outputs": [],
   "source": [
    "import tarfile\n",
    "import io\n",
    "\n",
    "def extract(filename):\n",
    "    out = []\n",
    "    with s3.open(filename) as f:\n",
    "        bytes = f.read()\n",
    "        with io.BytesIO() as bio:\n",
    "            bio.write(bytes)\n",
    "            bio.seek(0)\n",
    "            with tarfile.TarFile(fileobj=bio) as tf:\n",
    "                for member in tf.getmembers():\n",
    "                    if member.isfile() and member.name.endswith(\".pdf\"):\n",
    "                        data = tf.extractfile(member).read()\n",
    "                        out.append((\n",
    "                            member.name, \n",
    "                            b\"matplotlib\" in data.lower()\n",
    "                        ))\n",
    "            return out"
   ]
  },
  {
   "cell_type": "code",
   "execution_count": 91,
   "id": "de243ca8-bcd2-47b4-8574-bce3f0bda790",
   "metadata": {},
   "outputs": [
    {
     "data": {
      "text/plain": [
       "[('0011/cs0011019.pdf', False),\n",
       " ('0011/gr-qc0011017.pdf', False),\n",
       " ('0011/hep-ex0011095.pdf', False),\n",
       " ('0011/cond-mat0011373.pdf', False),\n",
       " ('0011/hep-ph0011035.pdf', False),\n",
       " ('0011/gr-qc0011082.pdf', False),\n",
       " ('0011/cond-mat0011202.pdf', False),\n",
       " ('0011/hep-ph0011209.pdf', False),\n",
       " ('0011/cond-mat0011038.pdf', False),\n",
       " ('0011/gr-qc0011014.pdf', False)]"
      ]
     },
     "execution_count": 91,
     "metadata": {},
     "output_type": "execute_result"
    }
   ],
   "source": [
    "# See an example of its use\n",
    "extract(directories[20])[:10]"
   ]
  },
  {
   "cell_type": "markdown",
   "id": "9feae86b-4c46-455d-8e5b-09eb80ec3400",
   "metadata": {},
   "source": [
    "# Scale function to full dataset"
   ]
  },
  {
   "cell_type": "code",
   "execution_count": null,
   "id": "e34dc6f5-2154-4241-a461-576c6733c99f",
   "metadata": {},
   "outputs": [],
   "source": [
    "cluster.scale(100)"
   ]
  },
  {
   "cell_type": "code",
   "execution_count": 64,
   "id": "6ff8f366-4cdf-4ac3-a0c1-08545f6e07ac",
   "metadata": {},
   "outputs": [],
   "source": [
    "futures = client.map(extract, directories)\n",
    "wait(futures)\n",
    "\n",
    "# We had one error in one file.  Let's just ignore and move on.\n",
    "good = [future for future in futures if future.status == \"finished\"]\n",
    "\n",
    "lists = client.gather(good)"
   ]
  },
  {
   "cell_type": "code",
   "execution_count": null,
   "id": "f6f61c10-b892-446f-bf5e-c504209b412b",
   "metadata": {},
   "outputs": [],
   "source": [
    "# Scale down now that we're done\n",
    "cluster.scale(4)"
   ]
  },
  {
   "cell_type": "code",
   "execution_count": 75,
   "id": "85d74a56-e7c1-4614-86bd-6342e16d58fd",
   "metadata": {},
   "outputs": [],
   "source": [
    "# Convert to Pandas\n",
    "\n",
    "dfs = [\n",
    "    pd.DataFrame(list, columns=[\"filename\", \"has_matplotlib\"]) \n",
    "    for list in lists\n",
    "]\n",
    "\n",
    "df = pd.concat(dfs)\n",
    "\n",
    "df"
   ]
  },
  {
   "cell_type": "markdown",
   "id": "299b5097-ff28-4036-b569-a18449cca0d9",
   "metadata": {},
   "source": [
    "## Enrich Data\n",
    "\n",
    "Let's make a couple of functions to enhance our data a bit. "
   ]
  },
  {
   "cell_type": "code",
   "execution_count": 85,
   "id": "f98c54e7-fc46-4180-9586-c06eac6432e6",
   "metadata": {},
   "outputs": [
    {
     "data": {
      "text/plain": [
       "Timestamp('2000-05-01 00:00:00')"
      ]
     },
     "execution_count": 85,
     "metadata": {},
     "output_type": "execute_result"
    }
   ],
   "source": [
    "def date(filename):\n",
    "    year = int(filename.split(\"/\")[0][:2])\n",
    "    month = int(filename.split(\"/\")[0][2:4])\n",
    "    if year > 80:\n",
    "        year = 1900 + year\n",
    "    else:\n",
    "        year = 2000 + year\n",
    "    \n",
    "    return pd.Timestamp(year=year, month=month, day=1)\n",
    "\n",
    "date(\"0005/astro-ph0001322.pdf\")"
   ]
  },
  {
   "cell_type": "code",
   "execution_count": 86,
   "id": "315f8de5-c53a-49d9-8f8d-3ba62fcee727",
   "metadata": {},
   "outputs": [
    {
     "data": {
      "text/html": [
       "<div>\n",
       "<style scoped>\n",
       "    .dataframe tbody tr th:only-of-type {\n",
       "        vertical-align: middle;\n",
       "    }\n",
       "\n",
       "    .dataframe tbody tr th {\n",
       "        vertical-align: top;\n",
       "    }\n",
       "\n",
       "    .dataframe thead th {\n",
       "        text-align: right;\n",
       "    }\n",
       "</style>\n",
       "<table border=\"1\" class=\"dataframe\">\n",
       "  <thead>\n",
       "    <tr style=\"text-align: right;\">\n",
       "      <th></th>\n",
       "      <th>filename</th>\n",
       "      <th>has_matplotlib</th>\n",
       "      <th>date</th>\n",
       "    </tr>\n",
       "  </thead>\n",
       "  <tbody>\n",
       "    <tr>\n",
       "      <th>0</th>\n",
       "      <td>0001/astro-ph0001477.pdf</td>\n",
       "      <td>False</td>\n",
       "      <td>2000-01-01</td>\n",
       "    </tr>\n",
       "    <tr>\n",
       "      <th>1</th>\n",
       "      <td>0001/hep-th0001095.pdf</td>\n",
       "      <td>False</td>\n",
       "      <td>2000-01-01</td>\n",
       "    </tr>\n",
       "    <tr>\n",
       "      <th>2</th>\n",
       "      <td>0001/astro-ph0001322.pdf</td>\n",
       "      <td>False</td>\n",
       "      <td>2000-01-01</td>\n",
       "    </tr>\n",
       "    <tr>\n",
       "      <th>3</th>\n",
       "      <td>0001/cond-mat0001159.pdf</td>\n",
       "      <td>False</td>\n",
       "      <td>2000-01-01</td>\n",
       "    </tr>\n",
       "    <tr>\n",
       "      <th>4</th>\n",
       "      <td>0001/astro-ph0001132.pdf</td>\n",
       "      <td>False</td>\n",
       "      <td>2000-01-01</td>\n",
       "    </tr>\n",
       "  </tbody>\n",
       "</table>\n",
       "</div>"
      ],
      "text/plain": [
       "                   filename  has_matplotlib       date\n",
       "0  0001/astro-ph0001477.pdf           False 2000-01-01\n",
       "1    0001/hep-th0001095.pdf           False 2000-01-01\n",
       "2  0001/astro-ph0001322.pdf           False 2000-01-01\n",
       "3  0001/cond-mat0001159.pdf           False 2000-01-01\n",
       "4  0001/astro-ph0001132.pdf           False 2000-01-01"
      ]
     },
     "execution_count": 86,
     "metadata": {},
     "output_type": "execute_result"
    }
   ],
   "source": [
    "df[\"date\"] = df.filename.map(date)\n",
    "df.head()"
   ]
  },
  {
   "cell_type": "markdown",
   "id": "e64781f1-0486-4eda-81b4-68911383be7a",
   "metadata": {},
   "source": [
    "## Plot\n",
    "\n",
    "The scalable work is over.  Now we can just fool around with Pandas and Matplotlib."
   ]
  },
  {
   "cell_type": "code",
   "execution_count": 88,
   "id": "270ae46c-ac65-48f1-a7ca-c6f742591c7c",
   "metadata": {},
   "outputs": [
    {
     "data": {
      "text/plain": [
       "<AxesSubplot: xlabel='date'>"
      ]
     },
     "execution_count": 88,
     "metadata": {},
     "output_type": "execute_result"
    },
    {
     "data": {
      "image/png": "[encoded data removed]",
      "text/plain": [
       "<Figure size 640x480 with 1 Axes>"
      ]
     },
     "metadata": {},
     "output_type": "display_data"
    }
   ],
   "source": [
    "df.groupby(\"date\").has_matplotlib.mean().plot()"
   ]
  },
  {
   "cell_type": "markdown",
   "id": "81198952-f6ba-4e1b-9792-36e54a5fe491",
   "metadata": {},
   "source": [
    "Yup.  Matplotlib is used pretty commonly on arXiv.  Go team."
   ]
  },
  {
   "cell_type": "code",
   "execution_count": 92,
   "id": "3ae0d6ff-4471-4a45-bbe1-6bcd8a8d72a3",
   "metadata": {},
   "outputs": [
    {
     "data": {
      "text/plain": [
       "6320559"
      ]
     },
     "execution_count": 92,
     "metadata": {},
     "output_type": "execute_result"
    }
   ],
   "source": [
    "df.to_csv(\"arxiv-matpl"
   ]
  },
  {
   "cell_type": "code",
   "execution_count": null,
   "id": "623becf0-a84d-4cf7-b719-883bfe60eef4",
   "metadata": {},
   "outputs": [],
   "source": []
  }
 ],
 "metadata": {
  "kernelspec": {
   "display_name": "Python [conda env:play]",
   "language": "python",
   "name": "conda-env-play-py"
  },
  "language_info": {
   "codemirror_mode": {
    "name": "ipython",
    "version": 3
   },
   "file_extension": ".py",
   "mimetype": "text/x-python",
   "name": "python",
   "nbconvert_exporter": "python",
   "pygments_lexer": "ipython3",
   "version": "3.10.6"
  }
 },
 "nbformat": 4,
 "nbformat_minor": 5
}
